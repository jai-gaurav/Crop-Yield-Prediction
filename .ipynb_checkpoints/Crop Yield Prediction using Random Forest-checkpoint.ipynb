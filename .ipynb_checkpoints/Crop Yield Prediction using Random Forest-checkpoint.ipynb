{
 "cells": [
  {
   "cell_type": "code",
   "execution_count": 1,
   "id": "13d59230",
   "metadata": {},
   "outputs": [],
   "source": [
    "# importing necessary packages\n",
    "import numpy as np\n",
    "import pandas as pd\n",
    "import matplotlib.pyplot as plt\n",
    "from sklearn.model_selection import train_test_split\n",
    "from sklearn.ensemble import RandomForestRegressor"
   ]
  },
  {
   "cell_type": "code",
   "execution_count": 2,
   "id": "92e9ba90",
   "metadata": {},
   "outputs": [
    {
     "data": {
      "text/html": [
       "<div>\n",
       "<style scoped>\n",
       "    .dataframe tbody tr th:only-of-type {\n",
       "        vertical-align: middle;\n",
       "    }\n",
       "\n",
       "    .dataframe tbody tr th {\n",
       "        vertical-align: top;\n",
       "    }\n",
       "\n",
       "    .dataframe thead th {\n",
       "        text-align: right;\n",
       "    }\n",
       "</style>\n",
       "<table border=\"1\" class=\"dataframe\">\n",
       "  <thead>\n",
       "    <tr style=\"text-align: right;\">\n",
       "      <th></th>\n",
       "      <th>RFall</th>\n",
       "      <th>Fert</th>\n",
       "      <th>Temp</th>\n",
       "      <th>N</th>\n",
       "      <th>P</th>\n",
       "      <th>K</th>\n",
       "      <th>Yield</th>\n",
       "    </tr>\n",
       "  </thead>\n",
       "  <tbody>\n",
       "    <tr>\n",
       "      <th>0</th>\n",
       "      <td>1230</td>\n",
       "      <td>80</td>\n",
       "      <td>28</td>\n",
       "      <td>80</td>\n",
       "      <td>24</td>\n",
       "      <td>20</td>\n",
       "      <td>12.0</td>\n",
       "    </tr>\n",
       "    <tr>\n",
       "      <th>1</th>\n",
       "      <td>480</td>\n",
       "      <td>60</td>\n",
       "      <td>36</td>\n",
       "      <td>70</td>\n",
       "      <td>20</td>\n",
       "      <td>18</td>\n",
       "      <td>8.0</td>\n",
       "    </tr>\n",
       "    <tr>\n",
       "      <th>2</th>\n",
       "      <td>1250</td>\n",
       "      <td>75</td>\n",
       "      <td>29</td>\n",
       "      <td>78</td>\n",
       "      <td>22</td>\n",
       "      <td>19</td>\n",
       "      <td>11.0</td>\n",
       "    </tr>\n",
       "    <tr>\n",
       "      <th>3</th>\n",
       "      <td>450</td>\n",
       "      <td>65</td>\n",
       "      <td>35</td>\n",
       "      <td>70</td>\n",
       "      <td>19</td>\n",
       "      <td>18</td>\n",
       "      <td>9.0</td>\n",
       "    </tr>\n",
       "    <tr>\n",
       "      <th>4</th>\n",
       "      <td>1200</td>\n",
       "      <td>80</td>\n",
       "      <td>27</td>\n",
       "      <td>79</td>\n",
       "      <td>22</td>\n",
       "      <td>19</td>\n",
       "      <td>11.0</td>\n",
       "    </tr>\n",
       "    <tr>\n",
       "      <th>...</th>\n",
       "      <td>...</td>\n",
       "      <td>...</td>\n",
       "      <td>...</td>\n",
       "      <td>...</td>\n",
       "      <td>...</td>\n",
       "      <td>...</td>\n",
       "      <td>...</td>\n",
       "    </tr>\n",
       "    <tr>\n",
       "      <th>94</th>\n",
       "      <td>1250</td>\n",
       "      <td>77</td>\n",
       "      <td>28</td>\n",
       "      <td>78</td>\n",
       "      <td>23</td>\n",
       "      <td>20</td>\n",
       "      <td>9.0</td>\n",
       "    </tr>\n",
       "    <tr>\n",
       "      <th>95</th>\n",
       "      <td>425</td>\n",
       "      <td>60</td>\n",
       "      <td>39</td>\n",
       "      <td>65</td>\n",
       "      <td>19</td>\n",
       "      <td>17</td>\n",
       "      <td>6.5</td>\n",
       "    </tr>\n",
       "    <tr>\n",
       "      <th>96</th>\n",
       "      <td>1220</td>\n",
       "      <td>79</td>\n",
       "      <td>28</td>\n",
       "      <td>77</td>\n",
       "      <td>23</td>\n",
       "      <td>21</td>\n",
       "      <td>10.5</td>\n",
       "    </tr>\n",
       "    <tr>\n",
       "      <th>97</th>\n",
       "      <td>480</td>\n",
       "      <td>65</td>\n",
       "      <td>36</td>\n",
       "      <td>68</td>\n",
       "      <td>21</td>\n",
       "      <td>16</td>\n",
       "      <td>7.0</td>\n",
       "    </tr>\n",
       "    <tr>\n",
       "      <th>98</th>\n",
       "      <td>1230</td>\n",
       "      <td>80</td>\n",
       "      <td>28</td>\n",
       "      <td>80</td>\n",
       "      <td>24</td>\n",
       "      <td>20</td>\n",
       "      <td>12.0</td>\n",
       "    </tr>\n",
       "  </tbody>\n",
       "</table>\n",
       "<p>99 rows × 7 columns</p>\n",
       "</div>"
      ],
      "text/plain": [
       "    RFall  Fert  Temp   N   P   K  Yield\n",
       "0    1230    80    28  80  24  20   12.0\n",
       "1     480    60    36  70  20  18    8.0\n",
       "2    1250    75    29  78  22  19   11.0\n",
       "3     450    65    35  70  19  18    9.0\n",
       "4    1200    80    27  79  22  19   11.0\n",
       "..    ...   ...   ...  ..  ..  ..    ...\n",
       "94   1250    77    28  78  23  20    9.0\n",
       "95    425    60    39  65  19  17    6.5\n",
       "96   1220    79    28  77  23  21   10.5\n",
       "97    480    65    36  68  21  16    7.0\n",
       "98   1230    80    28  80  24  20   12.0\n",
       "\n",
       "[99 rows x 7 columns]"
      ]
     },
     "execution_count": 2,
     "metadata": {},
     "output_type": "execute_result"
    }
   ],
   "source": [
    "# creating dataframe from excel file\n",
    "df = pd.read_excel('data.xlsx')\n",
    "df.columns = ['RFall', 'Fert', 'Temp', 'N', 'P', 'K', 'Yield']\n",
    "df"
   ]
  },
  {
   "cell_type": "code",
   "execution_count": 3,
   "id": "c43d49ea",
   "metadata": {},
   "outputs": [
    {
     "name": "stdout",
     "output_type": "stream",
     "text": [
      "<class 'pandas.core.frame.DataFrame'>\n",
      "RangeIndex: 99 entries, 0 to 98\n",
      "Data columns (total 7 columns):\n",
      " #   Column  Non-Null Count  Dtype  \n",
      "---  ------  --------------  -----  \n",
      " 0   RFall   99 non-null     int64  \n",
      " 1   Fert    99 non-null     int64  \n",
      " 2   Temp    99 non-null     int64  \n",
      " 3   N       99 non-null     int64  \n",
      " 4   P       99 non-null     int64  \n",
      " 5   K       99 non-null     int64  \n",
      " 6   Yield   99 non-null     float64\n",
      "dtypes: float64(1), int64(6)\n",
      "memory usage: 5.5 KB\n"
     ]
    }
   ],
   "source": [
    "# check if dataset contains any null values\n",
    "df.info()"
   ]
  },
  {
   "cell_type": "code",
   "execution_count": 4,
   "id": "b889f4a5",
   "metadata": {},
   "outputs": [
    {
     "data": {
      "image/png": "[encoded data removed]",
      "text/plain": [
       "<Figure size 432x288 with 6 Axes>"
      ]
     },
     "metadata": {
      "needs_background": "light"
     },
     "output_type": "display_data"
    }
   ],
   "source": [
    "# plot the graphs of features to check for outliers\n",
    "\n",
    "# get values\n",
    "x = np.array(range(99))\n",
    "y_RFall = np.array(df['RFall'])\n",
    "y_Fert = np.array(df['Fert'])\n",
    "y_Temp = np.array(df['Temp'])\n",
    "y_N = np.array(df['N'])\n",
    "y_P = np.array(df['P'])\n",
    "y_K = np.array(df['K'])\n",
    "\n",
    "# plot values\n",
    "fig, axs = plt.subplots(2, 3)\n",
    "\n",
    "axs[0, 0].plot(x, y_RFall, 'tab:blue')\n",
    "axs[0, 0].set_title('Rain Fall (mm)')\n",
    "\n",
    "axs[0, 1].plot(x, y_Fert, 'tab:green')\n",
    "axs[0, 1].set_title('Fertilizer (kg/acre)')\n",
    "\n",
    "axs[0, 2].plot(x, y_Temp, 'tab:orange')\n",
    "axs[0, 2].set_title('Temperature')\n",
    "\n",
    "axs[1, 0].plot(x, y_N, 'tab:cyan')\n",
    "axs[1, 0].set_title('Nitrogen')\n",
    "\n",
    "axs[1, 1].plot(x, y_P)\n",
    "axs[1, 1].set_title('Phosphorous')\n",
    "\n",
    "axs[1, 2].plot(x, y_K)\n",
    "axs[1, 2].set_title('Potassium')\n",
    "\n",
    "# Hide x labels and tick labels for top plots and y ticks for right plots.\n",
    "for ax in axs.flat:\n",
    "    ax.label_outer()\n",
    "    \n",
    "plt.show()"
   ]
  },
  {
   "cell_type": "code",
   "execution_count": 5,
   "id": "57a28a86",
   "metadata": {},
   "outputs": [],
   "source": [
    "# get features and labels\n",
    "labels = np.array(df['Yield'])\n",
    "features = df.drop('Yield', axis = 1)\n",
    "feature_list = list(features.columns)\n",
    "features = np.array(features)"
   ]
  },
  {
   "cell_type": "code",
   "execution_count": 6,
   "id": "99a5ea66",
   "metadata": {},
   "outputs": [
    {
     "name": "stdout",
     "output_type": "stream",
     "text": [
      "Training Features Shape: (84, 6)\n",
      "Training Outputs Shape: (84,)\n",
      "Testing Features Shape: (15, 6)\n",
      "Testing Outputs Shape: (15,)\n"
     ]
    }
   ],
   "source": [
    "# splitting data into training and testing sets\n",
    "train_features, test_features, train_labels, test_labels = train_test_split(features, \n",
    "                                                                            labels, \n",
    "                                                                            test_size = 0.15, \n",
    "                                                                            random_state = 31)\n",
    "\n",
    "print('Training Features Shape:', train_features.shape)\n",
    "print('Training Outputs Shape:', train_labels.shape)\n",
    "print('Testing Features Shape:', test_features.shape)\n",
    "print('Testing Outputs Shape:', test_labels.shape)"
   ]
  },
  {
   "cell_type": "code",
   "execution_count": 7,
   "id": "22d084f6",
   "metadata": {},
   "outputs": [],
   "source": [
    "# instantiate model with 100 decision trees\n",
    "rf = RandomForestRegressor(n_estimators = 100, random_state = 31)"
   ]
  },
  {
   "cell_type": "code",
   "execution_count": 8,
   "id": "015f3291",
   "metadata": {},
   "outputs": [
    {
     "data": {
      "text/plain": [
       "RandomForestRegressor(random_state=31)"
      ]
     },
     "execution_count": 8,
     "metadata": {},
     "output_type": "execute_result"
    }
   ],
   "source": [
    "# train the model on training data set\n",
    "rf.fit(train_features, train_labels)"
   ]
  },
  {
   "cell_type": "code",
   "execution_count": 9,
   "id": "88aae50d",
   "metadata": {},
   "outputs": [],
   "source": [
    "# Use the forest's predict method on the test data\n",
    "predictions = rf.predict(test_features)"
   ]
  },
  {
   "cell_type": "code",
   "execution_count": 10,
   "id": "82bc3fb3",
   "metadata": {},
   "outputs": [
    {
     "name": "stdout",
     "output_type": "stream",
     "text": [
      "Mean Absolute Error: 0.37\n"
     ]
    }
   ],
   "source": [
    "# calculate mean absolute error (MAE)\n",
    "errors = abs(predictions - test_labels)\n",
    "print('Mean Absolute Error:', round(np.mean(errors), 2))"
   ]
  },
  {
   "cell_type": "code",
   "execution_count": 11,
   "id": "c3ec0439",
   "metadata": {},
   "outputs": [
    {
     "name": "stdout",
     "output_type": "stream",
     "text": [
      "Accuracy: 95.68 %.\n"
     ]
    }
   ],
   "source": [
    "# calculate mean absolute percentage error (MAPE) and display accuracy\n",
    "mape = 100 * (errors / test_labels)\n",
    "\n",
    "accuracy = 100 - np.mean(mape)\n",
    "print('Accuracy:', round(accuracy, 2), '%.')"
   ]
  },
  {
   "cell_type": "code",
   "execution_count": 12,
   "id": "ea5346f6",
   "metadata": {},
   "outputs": [
    {
     "name": "stdout",
     "output_type": "stream",
     "text": [
      "Variable: RFall                Importance: 0.52\n",
      "Variable: Temp                 Importance: 0.28\n",
      "Variable: K                    Importance: 0.07\n",
      "Variable: Fert                 Importance: 0.05\n",
      "Variable: N                    Importance: 0.05\n",
      "Variable: P                    Importance: 0.03\n"
     ]
    }
   ],
   "source": [
    "# Get numerical feature importances\n",
    "importances = list(rf.feature_importances_)\n",
    "\n",
    "# List of tuples with variable and importance\n",
    "feature_importances = [(feature, round(importance, 2)) for feature, \n",
    "                       importance in zip(feature_list, importances)]\n",
    "\n",
    "# Sort the feature importances by most important first\n",
    "feature_importances = sorted(feature_importances, key = lambda x: \n",
    "                             x[1], reverse = True)\n",
    "\n",
    "# Print out the feature and importances \n",
    "[print('Variable: {:20} Importance: {}'.format(*pair)) for pair in feature_importances];"
   ]
  },
  {
   "cell_type": "code",
   "execution_count": 13,
   "id": "96495a65",
   "metadata": {},
   "outputs": [
    {
     "data": {
      "text/plain": [
       "array([11.93      ,  8.05      , 10.475     ,  8.525     , 10.83      ,\n",
       "        9.43833333, 10.485     ,  6.745     , 10.935     ,  5.96083333,\n",
       "       11.97      ,  7.61      , 10.595     ,  8.515     , 10.54478571,\n",
       "        5.78258333, 11.82      ,  7.07      , 10.695     , 11.475     ,\n",
       "        6.21      , 11.03      ,  7.22      , 10.17      ,  8.755     ,\n",
       "       10.54478571,  5.78258333, 11.89      ,  7.04      ,  9.955     ,\n",
       "       10.82      ,  6.45      , 11.01      ,  7.435     , 10.205     ,\n",
       "        9.015     , 10.43261905,  5.9545    , 11.58583333,  8.005     ,\n",
       "       10.77      ,  7.04      , 10.97      ,  6.19083333, 11.08166667,\n",
       "        7.365     , 11.01      ,  8.045     ,  9.945     ,  6.415     ,\n",
       "       10.84566667,  6.32      , 10.675     ,  6.44833333, 10.345     ,\n",
       "        7.6       , 10.65      ,  8.625     , 10.15      ,  6.67      ,\n",
       "       10.93566667,  6.78      , 10.895     ,  6.885     , 10.865     ,\n",
       "        7.035     , 10.975     ,  7.715     , 10.195     ,  8.21      ,\n",
       "       10.005     ,  7.335     , 10.705     ,  7.835     , 10.02      ,\n",
       "        7.4       , 11.82      ,  6.0325    , 10.095     ,  7.84      ,\n",
       "        9.775     ,  7.87      ,  9.99      ,  8.245     ,  9.695     ,\n",
       "        8.115     ,  9.97      ,  7.765     , 10.735     ,  6.5       ,\n",
       "       10.775     ,  7.155     ,  9.45      ,  7.83      ,  9.85      ,\n",
       "        6.735     , 10.555     ,  7.38      , 11.93      ])"
      ]
     },
     "execution_count": 13,
     "metadata": {},
     "output_type": "execute_result"
    }
   ],
   "source": [
    "# apply model on all entries and obtain estimated yield 'Predicted'\n",
    "predicted_yield = rf.predict(features)\n",
    "predicted_yield"
   ]
  },
  {
   "cell_type": "code",
   "execution_count": 14,
   "id": "cc7486db",
   "metadata": {},
   "outputs": [
    {
     "data": {
      "text/html": [
       "<div>\n",
       "<style scoped>\n",
       "    .dataframe tbody tr th:only-of-type {\n",
       "        vertical-align: middle;\n",
       "    }\n",
       "\n",
       "    .dataframe tbody tr th {\n",
       "        vertical-align: top;\n",
       "    }\n",
       "\n",
       "    .dataframe thead th {\n",
       "        text-align: right;\n",
       "    }\n",
       "</style>\n",
       "<table border=\"1\" class=\"dataframe\">\n",
       "  <thead>\n",
       "    <tr style=\"text-align: right;\">\n",
       "      <th></th>\n",
       "      <th>RFall</th>\n",
       "      <th>Fert</th>\n",
       "      <th>Temp</th>\n",
       "      <th>N</th>\n",
       "      <th>P</th>\n",
       "      <th>K</th>\n",
       "      <th>Yield</th>\n",
       "      <th>Predicted</th>\n",
       "    </tr>\n",
       "  </thead>\n",
       "  <tbody>\n",
       "    <tr>\n",
       "      <th>0</th>\n",
       "      <td>1230</td>\n",
       "      <td>80</td>\n",
       "      <td>28</td>\n",
       "      <td>80</td>\n",
       "      <td>24</td>\n",
       "      <td>20</td>\n",
       "      <td>12.0</td>\n",
       "      <td>11.930</td>\n",
       "    </tr>\n",
       "    <tr>\n",
       "      <th>1</th>\n",
       "      <td>480</td>\n",
       "      <td>60</td>\n",
       "      <td>36</td>\n",
       "      <td>70</td>\n",
       "      <td>20</td>\n",
       "      <td>18</td>\n",
       "      <td>8.0</td>\n",
       "      <td>8.050</td>\n",
       "    </tr>\n",
       "    <tr>\n",
       "      <th>2</th>\n",
       "      <td>1250</td>\n",
       "      <td>75</td>\n",
       "      <td>29</td>\n",
       "      <td>78</td>\n",
       "      <td>22</td>\n",
       "      <td>19</td>\n",
       "      <td>11.0</td>\n",
       "      <td>10.475</td>\n",
       "    </tr>\n",
       "    <tr>\n",
       "      <th>3</th>\n",
       "      <td>450</td>\n",
       "      <td>65</td>\n",
       "      <td>35</td>\n",
       "      <td>70</td>\n",
       "      <td>19</td>\n",
       "      <td>18</td>\n",
       "      <td>9.0</td>\n",
       "      <td>8.525</td>\n",
       "    </tr>\n",
       "    <tr>\n",
       "      <th>4</th>\n",
       "      <td>1200</td>\n",
       "      <td>80</td>\n",
       "      <td>27</td>\n",
       "      <td>79</td>\n",
       "      <td>22</td>\n",
       "      <td>19</td>\n",
       "      <td>11.0</td>\n",
       "      <td>10.830</td>\n",
       "    </tr>\n",
       "    <tr>\n",
       "      <th>...</th>\n",
       "      <td>...</td>\n",
       "      <td>...</td>\n",
       "      <td>...</td>\n",
       "      <td>...</td>\n",
       "      <td>...</td>\n",
       "      <td>...</td>\n",
       "      <td>...</td>\n",
       "      <td>...</td>\n",
       "    </tr>\n",
       "    <tr>\n",
       "      <th>94</th>\n",
       "      <td>1250</td>\n",
       "      <td>77</td>\n",
       "      <td>28</td>\n",
       "      <td>78</td>\n",
       "      <td>23</td>\n",
       "      <td>20</td>\n",
       "      <td>9.0</td>\n",
       "      <td>9.850</td>\n",
       "    </tr>\n",
       "    <tr>\n",
       "      <th>95</th>\n",
       "      <td>425</td>\n",
       "      <td>60</td>\n",
       "      <td>39</td>\n",
       "      <td>65</td>\n",
       "      <td>19</td>\n",
       "      <td>17</td>\n",
       "      <td>6.5</td>\n",
       "      <td>6.735</td>\n",
       "    </tr>\n",
       "    <tr>\n",
       "      <th>96</th>\n",
       "      <td>1220</td>\n",
       "      <td>79</td>\n",
       "      <td>28</td>\n",
       "      <td>77</td>\n",
       "      <td>23</td>\n",
       "      <td>21</td>\n",
       "      <td>10.5</td>\n",
       "      <td>10.555</td>\n",
       "    </tr>\n",
       "    <tr>\n",
       "      <th>97</th>\n",
       "      <td>480</td>\n",
       "      <td>65</td>\n",
       "      <td>36</td>\n",
       "      <td>68</td>\n",
       "      <td>21</td>\n",
       "      <td>16</td>\n",
       "      <td>7.0</td>\n",
       "      <td>7.380</td>\n",
       "    </tr>\n",
       "    <tr>\n",
       "      <th>98</th>\n",
       "      <td>1230</td>\n",
       "      <td>80</td>\n",
       "      <td>28</td>\n",
       "      <td>80</td>\n",
       "      <td>24</td>\n",
       "      <td>20</td>\n",
       "      <td>12.0</td>\n",
       "      <td>11.930</td>\n",
       "    </tr>\n",
       "  </tbody>\n",
       "</table>\n",
       "<p>99 rows × 8 columns</p>\n",
       "</div>"
      ],
      "text/plain": [
       "    RFall  Fert  Temp   N   P   K  Yield  Predicted\n",
       "0    1230    80    28  80  24  20   12.0     11.930\n",
       "1     480    60    36  70  20  18    8.0      8.050\n",
       "2    1250    75    29  78  22  19   11.0     10.475\n",
       "3     450    65    35  70  19  18    9.0      8.525\n",
       "4    1200    80    27  79  22  19   11.0     10.830\n",
       "..    ...   ...   ...  ..  ..  ..    ...        ...\n",
       "94   1250    77    28  78  23  20    9.0      9.850\n",
       "95    425    60    39  65  19  17    6.5      6.735\n",
       "96   1220    79    28  77  23  21   10.5     10.555\n",
       "97    480    65    36  68  21  16    7.0      7.380\n",
       "98   1230    80    28  80  24  20   12.0     11.930\n",
       "\n",
       "[99 rows x 8 columns]"
      ]
     },
     "execution_count": 14,
     "metadata": {},
     "output_type": "execute_result"
    }
   ],
   "source": [
    "# add 'Predicted' column \n",
    "df['Predicted'] = predicted_yield\n",
    "df"
   ]
  },
  {
   "cell_type": "code",
   "execution_count": 31,
   "id": "acace3b9",
   "metadata": {},
   "outputs": [
    {
     "name": "stdout",
     "output_type": "stream",
     "text": [
      "Mean Absolute Error: 0.246\n",
      "Mean Square Error: 0.1041\n",
      "Root Mean Square Error: 0.3227\n",
      "Normalized Root Mean Square Error: 0.1685\n",
      "Accuracy (R^2): 97.162 %.\n"
     ]
    }
   ],
   "source": [
    "# calculating evaluation metrics\n",
    "\n",
    "# Mean Absolute Error\n",
    "errors = df['Predicted'] - df['Yield']\n",
    "mae = abs(errors)\n",
    "print('Mean Absolute Error:', round(np.mean(mae), 4))\n",
    "\n",
    "# Mean Square Error (MSE)\n",
    "mse = mae ** 2\n",
    "print(\"Mean Square Error:\", round(np.mean(mse), 4))\n",
    "\n",
    "# Root Mean Square Error (RMSE)\n",
    "rmse = round(np.sqrt(np.mean(mse)), 4)\n",
    "print(\"Root Mean Square Error:\", rmse)\n",
    "\n",
    "\n",
    "# Normalized Root Mean Square Error (NRMSE)\n",
    "nrmse = round(rmse/(errors.max() - errors.min()), 4)\n",
    "print(\"Normalized Root Mean Square Error:\", nrmse)\n",
    "\n",
    "# calculate mean absolute percentage error (MAPE) or R^2 and display accuracy\n",
    "mape = 100 * (mae / df['Yield'])\n",
    "\n",
    "accuracy = 100 - np.mean(mape)\n",
    "print('Accuracy (R^2):', round(accuracy, 4), '%.')"
   ]
  },
  {
   "cell_type": "code",
   "execution_count": 32,
   "id": "5a8dd5ec",
   "metadata": {},
   "outputs": [
    {
     "data": {
      "image/png": "[encoded data removed]",
      "text/plain": [
       "<Figure size 432x288 with 1 Axes>"
      ]
     },
     "metadata": {
      "needs_background": "light"
     },
     "output_type": "display_data"
    }
   ],
   "source": [
    "# plotting actual yield Vs predicted yield\n",
    "\n",
    "plt.scatter(df['Yield'], df['Predicted'])\n",
    "plt.xlabel(\"Actual Yield\")\n",
    "plt.ylabel(\"Predicted Yield\")\n",
    "plt.title(\"Actual Yield Vs Predicted Yield\")\n",
    "plt.show()"
   ]
  }
 ],
 "metadata": {
  "kernelspec": {
   "display_name": "Python 3 (ipykernel)",
   "language": "python",
   "name": "python3"
  },
  "language_info": {
   "codemirror_mode": {
    "name": "ipython",
    "version": 3
   },
   "file_extension": ".py",
   "mimetype": "text/x-python",
   "name": "python",
   "nbconvert_exporter": "python",
   "pygments_lexer": "ipython3",
   "version": "3.8.8"
  }
 },
 "nbformat": 4,
 "nbformat_minor": 5
}
